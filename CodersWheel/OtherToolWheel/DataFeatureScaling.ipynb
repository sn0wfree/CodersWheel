{
 "cells": [
  {
   "cell_type": "code",
   "execution_count": 1,
   "metadata": {},
   "outputs": [],
   "source": [
    "# -*- coding: utf-8 -*-\n",
    "import pandas as pd\n",
    "import numpy as np"
   ]
  },
  {
   "cell_type": "code",
   "execution_count": 2,
   "metadata": {},
   "outputs": [],
   "source": [
    "# FeatureScaling can help us to boostup the  efficiency of data process"
   ]
  },
  {
   "cell_type": "code",
   "execution_count": 19,
   "metadata": {},
   "outputs": [
    {
     "ename": "SyntaxError",
     "evalue": "invalid syntax (<ipython-input-19-57baade27e74>, line 43)",
     "output_type": "error",
     "traceback": [
      "\u001b[0;36m  File \u001b[0;32m\"<ipython-input-19-57baade27e74>\"\u001b[0;36m, line \u001b[0;32m43\u001b[0m\n\u001b[0;31m    MeanNormalized_data = (data-data_mean)/(data_max — data_min)\u001b[0m\n\u001b[0m                                                    ^\u001b[0m\n\u001b[0;31mSyntaxError\u001b[0m\u001b[0;31m:\u001b[0m invalid syntax\n"
     ]
    }
   ],
   "source": [
    "class Scaling(object):\n",
    "    def __init__(self):\n",
    "        pass\n",
    "    def Standardization(self,data):# 标准化\n",
    "        \"\"\"In this tech, we should use Z-score to replace the real value.\n",
    "        the Z-score will be calculated as:\n",
    "            z =(x−μ)/σ\n",
    "        After Standardization, the feature of results will be altered \\\n",
    "        and follow the Standard Normal Distribution.\n",
    "        \"\"\"\n",
    "        if isinstance(data,np.ndarray):\n",
    "            data_mean = data.mean()\n",
    "            data_std = data.std()\n",
    "        elif isinstance(data,(list,tuple)):\n",
    "            data = np.array(data)\n",
    "            data_mean = data.mean()\n",
    "            data_std = data.std()\n",
    "        else:\n",
    "            raise ValueError('Input requires a list or a tuple or a np.array of int/foat num')\n",
    "        \n",
    "        #mean = np.mean(data)\n",
    "        #std = np.std(data)\n",
    "        return (data-data_mean)/data_std # zscored_data\n",
    "         \n",
    "        \n",
    "    def MeanNormalization(self,data):#均值归一化\n",
    "        \"\"\"In this tech, we will normalize the data into the normalized data which own the distribution\n",
    "        with mean equal to 0, std equal to 1.\n",
    "        \n",
    "        \"\"\"\n",
    "        if isinstance(data,np.ndarray):\n",
    "            data_min = data.min()\n",
    "            data_max = data.max()\n",
    "            data_mean = data.mean()\n",
    "        elif isinstance(data,(list,tuple)):\n",
    "            data = np.array(data)\n",
    "            data_min = data.min()\n",
    "            data_max = data.max()\n",
    "            data_mean = data.mean()\n",
    "        else:\n",
    "            raise ValueError('Input requires a list or a tuple or a np.array of int/foat num')\n",
    "        \n",
    "        MeanNormalized_data = (data-data_mean)/(data_max -data_min)\n",
    "        return MeanNormalized_data\n",
    "    def MeanMaxScaling(self,data,scalerange=(0,1)):\n",
    "        \"\"\"\n",
    "        This Scaling will create the value in [0,1]. when we are reqired scale the data\n",
    "        into special range such as [0,255] in the Image Process Task.\n",
    "        \"\"\"\n",
    "        if isinstance(data,np.ndarray):\n",
    "            data_min = data.min()\n",
    "            data_max = data.max()\n",
    "        elif isinstance(data,(list,tuple)):\n",
    "            data = np.array(data)\n",
    "            data_min = data.min()\n",
    "            data_max = data.max()\n",
    "        else:\n",
    "            raise ValueError('Input requires a list or a tuple or a np.array of int/foat num')\n",
    "        \n",
    "        MeanMaxScaled_data = ((data - data_min)/(data_max - data_min))*(scalerange[1]-scalerange[0])+scalerange[0]\n",
    "        return MeanMaxScaled_data"
   ]
  },
  {
   "cell_type": "code",
   "execution_count": 4,
   "metadata": {},
   "outputs": [],
   "source": []
  },
  {
   "cell_type": "code",
   "execution_count": 5,
   "metadata": {},
   "outputs": [],
   "source": [
    "data =np.arange(1e8)"
   ]
  },
  {
   "cell_type": "code",
   "execution_count": 15,
   "metadata": {},
   "outputs": [
    {
     "data": {
      "text/plain": [
       "0.0"
      ]
     },
     "execution_count": 15,
     "metadata": {},
     "output_type": "execute_result"
    }
   ],
   "source": [
    "data.min()"
   ]
  },
  {
   "cell_type": "code",
   "execution_count": 7,
   "metadata": {},
   "outputs": [
    {
     "data": {
      "text/plain": [
       "True"
      ]
     },
     "execution_count": 7,
     "metadata": {},
     "output_type": "execute_result"
    }
   ],
   "source": [
    "isinstance(data,np.ndarray)"
   ]
  },
  {
   "cell_type": "code",
   "execution_count": 14,
   "metadata": {},
   "outputs": [
    {
     "name": "stdout",
     "output_type": "stream",
     "text": [
      " "
     ]
    },
    {
     "data": {
      "text/plain": [
       "         22 function calls in 0.694 seconds\n",
       "\n",
       "   Ordered by: internal time\n",
       "\n",
       "   ncalls  tottime  percall  cumtime  percall filename:lineno(function)\n",
       "        1    0.541    0.541    0.658    0.658 _methods.py:76(_var)\n",
       "        2    0.117    0.058    0.117    0.058 {method 'reduce' of 'numpy.ufunc' objects}\n",
       "        1    0.037    0.037    0.694    0.694 _methods.py:122(_std)\n",
       "        4    0.000    0.000    0.000    0.000 {isinstance}\n",
       "        2    0.000    0.000    0.000    0.000 numeric.py:484(asanyarray)\n",
       "        1    0.000    0.000    0.000    0.000 _methods.py:43(_count_reduce_items)\n",
       "        1    0.000    0.000    0.694    0.694 <string>:1(<module>)\n",
       "        2    0.000    0.000    0.000    0.000 {issubclass}\n",
       "        2    0.000    0.000    0.000    0.000 {hasattr}\n",
       "        1    0.000    0.000    0.694    0.694 {method 'std' of 'numpy.ndarray' objects}\n",
       "        1    0.000    0.000    0.000    0.000 {max}\n",
       "        2    0.000    0.000    0.000    0.000 {numpy.core.multiarray.array}\n",
       "        1    0.000    0.000    0.000    0.000 {range}\n",
       "        1    0.000    0.000    0.000    0.000 {method 'disable' of '_lsprof.Profiler' objects}"
      ]
     },
     "metadata": {},
     "output_type": "display_data"
    }
   ],
   "source": [
    "data_mean = data.mean()\n",
    "%prun data_std = data.std()"
   ]
  },
  {
   "cell_type": "code",
   "execution_count": 9,
   "metadata": {},
   "outputs": [
    {
     "data": {
      "text/plain": [
       "49999999.5"
      ]
     },
     "execution_count": 9,
     "metadata": {},
     "output_type": "execute_result"
    }
   ],
   "source": [
    "data_mean"
   ]
  },
  {
   "cell_type": "code",
   "execution_count": 10,
   "metadata": {},
   "outputs": [
    {
     "data": {
      "text/plain": [
       "28867513.459478058"
      ]
     },
     "execution_count": 10,
     "metadata": {},
     "output_type": "execute_result"
    }
   ],
   "source": [
    "data_std"
   ]
  },
  {
   "cell_type": "code",
   "execution_count": 13,
   "metadata": {},
   "outputs": [
    {
     "name": "stdout",
     "output_type": "stream",
     "text": [
      " "
     ]
    },
    {
     "data": {
      "text/plain": [
       "         2 function calls in 1.182 seconds\n",
       "\n",
       "   Ordered by: internal time\n",
       "\n",
       "   ncalls  tottime  percall  cumtime  percall filename:lineno(function)\n",
       "        1    1.182    1.182    1.182    1.182 <string>:1(<module>)\n",
       "        1    0.000    0.000    0.000    0.000 {method 'disable' of '_lsprof.Profiler' objects}"
      ]
     },
     "metadata": {},
     "output_type": "display_data"
    }
   ],
   "source": [
    "%prun (data-data_mean)/data_std"
   ]
  },
  {
   "cell_type": "code",
   "execution_count": null,
   "metadata": {},
   "outputs": [],
   "source": [
    "data."
   ]
  }
 ],
 "metadata": {
  "kernelspec": {
   "display_name": "Python 2",
   "language": "python",
   "name": "python2"
  },
  "language_info": {
   "codemirror_mode": {
    "name": "ipython",
    "version": 2
   },
   "file_extension": ".py",
   "mimetype": "text/x-python",
   "name": "python",
   "nbconvert_exporter": "python",
   "pygments_lexer": "ipython2",
   "version": "2.7.14"
  }
 },
 "nbformat": 4,
 "nbformat_minor": 2
}
