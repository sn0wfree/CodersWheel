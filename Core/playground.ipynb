{
 "cells": [
  {
   "cell_type": "code",
   "execution_count": 1,
   "metadata": {},
   "outputs": [],
   "source": [
    "class getSubClass(object):\n",
    "\n",
    "    def __init__(self):\n",
    "        # self.all_subclasses = {}\n",
    "        pass\n",
    "\n",
    "    def getsubclasses(self, cls, all_subclasses={}):\n",
    "\n",
    "        for subclass in cls.__subclasses__():\n",
    "                # print(subclass._meta.abstract)\n",
    "            if (not (subclass.__name__) in all_subclasses.keys()) and (not subclass._meta.abstract):\n",
    "                print(subclass.__name__)\n",
    "                all_subclasses[subclass.__name__] = subclass\n",
    "            all_subclasses = self.getsubclasses(\n",
    "                subclass, all_subclasses=all_subclasses)\n",
    "        return all_subclasses"
   ]
  },
  {
   "cell_type": "code",
   "execution_count": 26,
   "metadata": {},
   "outputs": [],
   "source": [
    "class test(object):\n",
    "\n",
    "    def __init__(self):\n",
    "        pass\n",
    "\n",
    "    def testd(self, d):\n",
    "        return d\n",
    "\n",
    "    def test2(self, d):\n",
    "        return d\n",
    "class test2(test):\n",
    "    def __init__(self):\n",
    "        super(test2,self).__init__()\n",
    "        pass"
   ]
  },
  {
   "cell_type": "code",
   "execution_count": 28,
   "metadata": {},
   "outputs": [],
   "source": [
    "# getSubClass().getsubclasses(test2())"
   ]
  },
  {
   "cell_type": "code",
   "execution_count": 72,
   "metadata": {},
   "outputs": [],
   "source": [
    "import inspect\n",
    "def get_current_function_name():\n",
    "    return inspect.stack()[1][3]\n",
    "class MyClass(object):\n",
    "    def function_one(self):\n",
    "        print \"%s.%s invoked\"%(self.__class__.__name__, self.get_current_function_name())\n",
    "    def get_current_function_name(self):\n",
    "        \n",
    "        return inspect.stack()[1][3]\n",
    "    def returninspect(self):\n",
    "        return inspect.stack(),len(inspect.stack())"
   ]
  },
  {
   "cell_type": "code",
   "execution_count": 46,
   "metadata": {},
   "outputs": [
    {
     "data": {
      "text/plain": [
       "'<module>'"
      ]
     },
     "execution_count": 46,
     "metadata": {},
     "output_type": "execute_result"
    }
   ],
   "source": [
    "get_current_function_name()"
   ]
  },
  {
   "cell_type": "code",
   "execution_count": 51,
   "metadata": {},
   "outputs": [
    {
     "name": "stdout",
     "output_type": "stream",
     "text": [
      "MyClass.function_one invoked\n"
     ]
    }
   ],
   "source": [
    "MyClass().function_one()"
   ]
  },
  {
   "cell_type": "code",
   "execution_count": 71,
   "metadata": {},
   "outputs": [
    {
     "data": {
      "text/plain": [
       "21"
      ]
     },
     "execution_count": 71,
     "metadata": {},
     "output_type": "execute_result"
    }
   ],
   "source": []
  },
  {
   "cell_type": "code",
   "execution_count": 63,
   "metadata": {},
   "outputs": [
    {
     "data": {
      "text/plain": [
       "'foo'"
      ]
     },
     "execution_count": 63,
     "metadata": {},
     "output_type": "execute_result"
    }
   ],
   "source": [
    "def foo():pass\n",
    "def a(cls):return cls.__name__\n",
    "a(foo)"
   ]
  },
  {
   "cell_type": "code",
   "execution_count": 74,
   "metadata": {},
   "outputs": [
    {
     "data": {
      "text/plain": [
       "22"
      ]
     },
     "execution_count": 74,
     "metadata": {},
     "output_type": "execute_result"
    }
   ],
   "source": [
    "MyClass().returninspect()[1]"
   ]
  },
  {
   "cell_type": "code",
   "execution_count": 68,
   "metadata": {},
   "outputs": [
    {
     "data": {
      "text/plain": [
       "(<frame at 0x104c8b238>,\n",
       " '<ipython-input-68-7b120c72fd36>',\n",
       " 1,\n",
       " '<module>',\n",
       " [u'MyClass().returninspect()[1]\\n'],\n",
       " 0)"
      ]
     },
     "execution_count": 68,
     "metadata": {},
     "output_type": "execute_result"
    }
   ],
   "source": [
    "MyClass().returninspect()[1]"
   ]
  },
  {
   "cell_type": "code",
   "execution_count": 75,
   "metadata": {},
   "outputs": [
    {
     "data": {
      "text/plain": [
       "([(<frame at 0x104cc3420>,\n",
       "   '<ipython-input-72-5e149610bd61>',\n",
       "   11,\n",
       "   'returninspect',\n",
       "   [u'        return inspect.stack(),len(inspect.stack())\\n'],\n",
       "   0),\n",
       "  (<frame at 0x7f896b5c4270>,\n",
       "   '<ipython-input-75-d587fc2db140>',\n",
       "   1,\n",
       "   '<module>',\n",
       "   [u'MyClass().returninspect()\\n'],\n",
       "   0),\n",
       "  (<frame at 0x7f896b5c61b0>,\n",
       "   '/Users/sn0wfree/anaconda2/lib/python2.7/site-packages/IPython/core/interactiveshell.py',\n",
       "   2882,\n",
       "   'run_code',\n",
       "   ['                exec(code_obj, self.user_global_ns, self.user_ns)\\n'],\n",
       "   0),\n",
       "  (<frame at 0x7f896b5c5f80>,\n",
       "   '/Users/sn0wfree/anaconda2/lib/python2.7/site-packages/IPython/core/interactiveshell.py',\n",
       "   2828,\n",
       "   'run_ast_nodes',\n",
       "   ['                if self.run_code(code, result):\\n'],\n",
       "   0),\n",
       "  (<frame at 0x7f896b5c4690>,\n",
       "   '/Users/sn0wfree/anaconda2/lib/python2.7/site-packages/IPython/core/interactiveshell.py',\n",
       "   2718,\n",
       "   'run_cell',\n",
       "   ['                   interactivity=interactivity, compiler=compiler, result=result)\\n'],\n",
       "   0),\n",
       "  (<frame at 0x7f896dc4e730>,\n",
       "   '/Users/sn0wfree/anaconda2/lib/python2.7/site-packages/ipykernel/zmqshell.py',\n",
       "   533,\n",
       "   'run_cell',\n",
       "   ['        return super(ZMQInteractiveShell, self).run_cell(*args, **kwargs)\\n'],\n",
       "   0),\n",
       "  (<frame at 0x7f896db08f50>,\n",
       "   '/Users/sn0wfree/anaconda2/lib/python2.7/site-packages/ipykernel/ipkernel.py',\n",
       "   208,\n",
       "   'do_execute',\n",
       "   ['            res = shell.run_cell(code, store_history=store_history, silent=silent)\\n'],\n",
       "   0),\n",
       "  (<frame at 0x7f896b4c2430>,\n",
       "   '/Users/sn0wfree/anaconda2/lib/python2.7/site-packages/ipykernel/kernelbase.py',\n",
       "   397,\n",
       "   'execute_request',\n",
       "   ['                                        user_expressions, allow_stdin)\\n'],\n",
       "   0),\n",
       "  (<frame at 0x7f896dc4f640>,\n",
       "   '/Users/sn0wfree/anaconda2/lib/python2.7/site-packages/ipykernel/kernelbase.py',\n",
       "   232,\n",
       "   'dispatch_shell',\n",
       "   ['                handler(stream, idents, msg)\\n'],\n",
       "   0),\n",
       "  (<frame at 0x7f896dc4eb10>,\n",
       "   '/Users/sn0wfree/anaconda2/lib/python2.7/site-packages/ipykernel/kernelbase.py',\n",
       "   281,\n",
       "   'dispatcher',\n",
       "   ['                return self.dispatch_shell(stream, msg)\\n'],\n",
       "   0),\n",
       "  (<frame at 0x104c69620>,\n",
       "   '/Users/sn0wfree/anaconda2/lib/python2.7/site-packages/tornado/stack_context.py',\n",
       "   277,\n",
       "   'null_wrapper',\n",
       "   ['                return fn(*args, **kwargs)\\n'],\n",
       "   0),\n",
       "  (<frame at 0x7f896b4c2940>,\n",
       "   '/Users/sn0wfree/anaconda2/lib/python2.7/site-packages/zmq/eventloop/zmqstream.py',\n",
       "   414,\n",
       "   '_run_callback',\n",
       "   ['                callback(*args, **kwargs)\\n'],\n",
       "   0),\n",
       "  (<frame at 0x104cc3238>,\n",
       "   '/Users/sn0wfree/anaconda2/lib/python2.7/site-packages/zmq/eventloop/zmqstream.py',\n",
       "   472,\n",
       "   '_handle_recv',\n",
       "   ['                self._run_callback(callback, msg)\\n'],\n",
       "   0),\n",
       "  (<frame at 0x7f896b5c3b50>,\n",
       "   '/Users/sn0wfree/anaconda2/lib/python2.7/site-packages/zmq/eventloop/zmqstream.py',\n",
       "   440,\n",
       "   '_handle_events',\n",
       "   ['                self._handle_recv()\\n'],\n",
       "   0),\n",
       "  (<frame at 0x104c91810>,\n",
       "   '/Users/sn0wfree/anaconda2/lib/python2.7/site-packages/tornado/stack_context.py',\n",
       "   277,\n",
       "   'null_wrapper',\n",
       "   ['                return fn(*args, **kwargs)\\n'],\n",
       "   0),\n",
       "  (<frame at 0x7f896b4b3560>,\n",
       "   '/Users/sn0wfree/anaconda2/lib/python2.7/site-packages/tornado/ioloop.py',\n",
       "   888,\n",
       "   'start',\n",
       "   ['                        handler_func(fd_obj, events)\\n'],\n",
       "   0),\n",
       "  (<frame at 0x104b5e228>,\n",
       "   '/Users/sn0wfree/anaconda2/lib/python2.7/site-packages/zmq/eventloop/ioloop.py',\n",
       "   177,\n",
       "   'start',\n",
       "   ['            super(ZMQIOLoop, self).start()\\n'],\n",
       "   0),\n",
       "  (<frame at 0x104458e18>,\n",
       "   '/Users/sn0wfree/anaconda2/lib/python2.7/site-packages/ipykernel/kernelapp.py',\n",
       "   478,\n",
       "   'start',\n",
       "   ['            self.io_loop.start()\\n'],\n",
       "   0),\n",
       "  (<frame at 0x1047e5b30>,\n",
       "   '/Users/sn0wfree/anaconda2/lib/python2.7/site-packages/traitlets/config/application.py',\n",
       "   658,\n",
       "   'launch_instance',\n",
       "   ['        app.start()\\n'],\n",
       "   0),\n",
       "  (<frame at 0x1029cfdd0>,\n",
       "   '/Users/sn0wfree/anaconda2/lib/python2.7/site-packages/ipykernel_launcher.py',\n",
       "   16,\n",
       "   '<module>',\n",
       "   ['    app.launch_new_instance()\\n'],\n",
       "   0),\n",
       "  (<frame at 0x7f896da28b70>,\n",
       "   '/Users/sn0wfree/anaconda2/lib/python2.7/runpy.py',\n",
       "   72,\n",
       "   '_run_code',\n",
       "   ['    exec code in run_globals\\n'],\n",
       "   0),\n",
       "  (<frame at 0x7f896b40c870>,\n",
       "   '/Users/sn0wfree/anaconda2/lib/python2.7/runpy.py',\n",
       "   174,\n",
       "   '_run_module_as_main',\n",
       "   ['                     \"__main__\", fname, loader, pkg_name)\\n'],\n",
       "   0)],\n",
       " 22)"
      ]
     },
     "execution_count": 75,
     "metadata": {},
     "output_type": "execute_result"
    }
   ],
   "source": [
    "MyClass().returninspect()"
   ]
  },
  {
   "cell_type": "code",
   "execution_count": null,
   "metadata": {},
   "outputs": [],
   "source": []
  }
 ],
 "metadata": {
  "kernelspec": {
   "display_name": "Python 2",
   "language": "python",
   "name": "python2"
  },
  "language_info": {
   "codemirror_mode": {
    "name": "ipython",
    "version": 2
   },
   "file_extension": ".py",
   "mimetype": "text/x-python",
   "name": "python",
   "nbconvert_exporter": "python",
   "pygments_lexer": "ipython2",
   "version": "2.7.14"
  }
 },
 "nbformat": 4,
 "nbformat_minor": 2
}
